{
 "cells": [
  {
   "cell_type": "code",
   "execution_count": 64,
   "id": "b85666b7",
   "metadata": {},
   "outputs": [],
   "source": [
    "import pandas as pd\n",
    "import numpy as np\n",
    "import matplotlib.pyplot as plt\n",
    "from sklearn.model_selection import train_test_split\n",
    "from sklearn.metrics import confusion_matrix,classification_report"
   ]
  },
  {
   "cell_type": "code",
   "execution_count": 65,
   "id": "55f35c74",
   "metadata": {},
   "outputs": [],
   "source": [
    "import tensorflow as tf\n",
    "from tensorflow.keras.models import Sequential\n",
    "from tensorflow.keras.layers import Dense,Dropout\n",
    "from tensorflow.keras.utils import to_categorical"
   ]
  },
  {
   "cell_type": "code",
   "execution_count": 66,
   "id": "47f4dece",
   "metadata": {},
   "outputs": [
    {
     "data": {
      "text/plain": [
       "'C:\\\\Users\\\\oem\\\\Documents\\\\archana\\\\AI-NEURAL NETWORKS'"
      ]
     },
     "execution_count": 66,
     "metadata": {},
     "output_type": "execute_result"
    }
   ],
   "source": [
    "pwd"
   ]
  },
  {
   "cell_type": "code",
   "execution_count": 67,
   "id": "f6ef0d1b",
   "metadata": {},
   "outputs": [
    {
     "data": {
      "text/html": [
       "<div>\n",
       "<style scoped>\n",
       "    .dataframe tbody tr th:only-of-type {\n",
       "        vertical-align: middle;\n",
       "    }\n",
       "\n",
       "    .dataframe tbody tr th {\n",
       "        vertical-align: top;\n",
       "    }\n",
       "\n",
       "    .dataframe thead th {\n",
       "        text-align: right;\n",
       "    }\n",
       "</style>\n",
       "<table border=\"1\" class=\"dataframe\">\n",
       "  <thead>\n",
       "    <tr style=\"text-align: right;\">\n",
       "      <th></th>\n",
       "      <th>0</th>\n",
       "      <th>1</th>\n",
       "      <th>2</th>\n",
       "      <th>3</th>\n",
       "      <th>4</th>\n",
       "      <th>5</th>\n",
       "      <th>6</th>\n",
       "      <th>7</th>\n",
       "      <th>8</th>\n",
       "      <th>9</th>\n",
       "      <th>...</th>\n",
       "      <th>51</th>\n",
       "      <th>52</th>\n",
       "      <th>53</th>\n",
       "      <th>54</th>\n",
       "      <th>55</th>\n",
       "      <th>56</th>\n",
       "      <th>57</th>\n",
       "      <th>58</th>\n",
       "      <th>59</th>\n",
       "      <th>60</th>\n",
       "    </tr>\n",
       "  </thead>\n",
       "  <tbody>\n",
       "    <tr>\n",
       "      <th>0</th>\n",
       "      <td>0.0200</td>\n",
       "      <td>0.0371</td>\n",
       "      <td>0.0428</td>\n",
       "      <td>0.0207</td>\n",
       "      <td>0.0954</td>\n",
       "      <td>0.0986</td>\n",
       "      <td>0.1539</td>\n",
       "      <td>0.1601</td>\n",
       "      <td>0.3109</td>\n",
       "      <td>0.2111</td>\n",
       "      <td>...</td>\n",
       "      <td>0.0027</td>\n",
       "      <td>0.0065</td>\n",
       "      <td>0.0159</td>\n",
       "      <td>0.0072</td>\n",
       "      <td>0.0167</td>\n",
       "      <td>0.0180</td>\n",
       "      <td>0.0084</td>\n",
       "      <td>0.0090</td>\n",
       "      <td>0.0032</td>\n",
       "      <td>R</td>\n",
       "    </tr>\n",
       "    <tr>\n",
       "      <th>1</th>\n",
       "      <td>0.0453</td>\n",
       "      <td>0.0523</td>\n",
       "      <td>0.0843</td>\n",
       "      <td>0.0689</td>\n",
       "      <td>0.1183</td>\n",
       "      <td>0.2583</td>\n",
       "      <td>0.2156</td>\n",
       "      <td>0.3481</td>\n",
       "      <td>0.3337</td>\n",
       "      <td>0.2872</td>\n",
       "      <td>...</td>\n",
       "      <td>0.0084</td>\n",
       "      <td>0.0089</td>\n",
       "      <td>0.0048</td>\n",
       "      <td>0.0094</td>\n",
       "      <td>0.0191</td>\n",
       "      <td>0.0140</td>\n",
       "      <td>0.0049</td>\n",
       "      <td>0.0052</td>\n",
       "      <td>0.0044</td>\n",
       "      <td>R</td>\n",
       "    </tr>\n",
       "    <tr>\n",
       "      <th>2</th>\n",
       "      <td>0.0262</td>\n",
       "      <td>0.0582</td>\n",
       "      <td>0.1099</td>\n",
       "      <td>0.1083</td>\n",
       "      <td>0.0974</td>\n",
       "      <td>0.2280</td>\n",
       "      <td>0.2431</td>\n",
       "      <td>0.3771</td>\n",
       "      <td>0.5598</td>\n",
       "      <td>0.6194</td>\n",
       "      <td>...</td>\n",
       "      <td>0.0232</td>\n",
       "      <td>0.0166</td>\n",
       "      <td>0.0095</td>\n",
       "      <td>0.0180</td>\n",
       "      <td>0.0244</td>\n",
       "      <td>0.0316</td>\n",
       "      <td>0.0164</td>\n",
       "      <td>0.0095</td>\n",
       "      <td>0.0078</td>\n",
       "      <td>R</td>\n",
       "    </tr>\n",
       "    <tr>\n",
       "      <th>3</th>\n",
       "      <td>0.0100</td>\n",
       "      <td>0.0171</td>\n",
       "      <td>0.0623</td>\n",
       "      <td>0.0205</td>\n",
       "      <td>0.0205</td>\n",
       "      <td>0.0368</td>\n",
       "      <td>0.1098</td>\n",
       "      <td>0.1276</td>\n",
       "      <td>0.0598</td>\n",
       "      <td>0.1264</td>\n",
       "      <td>...</td>\n",
       "      <td>0.0121</td>\n",
       "      <td>0.0036</td>\n",
       "      <td>0.0150</td>\n",
       "      <td>0.0085</td>\n",
       "      <td>0.0073</td>\n",
       "      <td>0.0050</td>\n",
       "      <td>0.0044</td>\n",
       "      <td>0.0040</td>\n",
       "      <td>0.0117</td>\n",
       "      <td>R</td>\n",
       "    </tr>\n",
       "    <tr>\n",
       "      <th>4</th>\n",
       "      <td>0.0762</td>\n",
       "      <td>0.0666</td>\n",
       "      <td>0.0481</td>\n",
       "      <td>0.0394</td>\n",
       "      <td>0.0590</td>\n",
       "      <td>0.0649</td>\n",
       "      <td>0.1209</td>\n",
       "      <td>0.2467</td>\n",
       "      <td>0.3564</td>\n",
       "      <td>0.4459</td>\n",
       "      <td>...</td>\n",
       "      <td>0.0031</td>\n",
       "      <td>0.0054</td>\n",
       "      <td>0.0105</td>\n",
       "      <td>0.0110</td>\n",
       "      <td>0.0015</td>\n",
       "      <td>0.0072</td>\n",
       "      <td>0.0048</td>\n",
       "      <td>0.0107</td>\n",
       "      <td>0.0094</td>\n",
       "      <td>R</td>\n",
       "    </tr>\n",
       "  </tbody>\n",
       "</table>\n",
       "<p>5 rows × 61 columns</p>\n",
       "</div>"
      ],
      "text/plain": [
       "       0       1       2       3       4       5       6       7       8   \\\n",
       "0  0.0200  0.0371  0.0428  0.0207  0.0954  0.0986  0.1539  0.1601  0.3109   \n",
       "1  0.0453  0.0523  0.0843  0.0689  0.1183  0.2583  0.2156  0.3481  0.3337   \n",
       "2  0.0262  0.0582  0.1099  0.1083  0.0974  0.2280  0.2431  0.3771  0.5598   \n",
       "3  0.0100  0.0171  0.0623  0.0205  0.0205  0.0368  0.1098  0.1276  0.0598   \n",
       "4  0.0762  0.0666  0.0481  0.0394  0.0590  0.0649  0.1209  0.2467  0.3564   \n",
       "\n",
       "       9   ...      51      52      53      54      55      56      57  \\\n",
       "0  0.2111  ...  0.0027  0.0065  0.0159  0.0072  0.0167  0.0180  0.0084   \n",
       "1  0.2872  ...  0.0084  0.0089  0.0048  0.0094  0.0191  0.0140  0.0049   \n",
       "2  0.6194  ...  0.0232  0.0166  0.0095  0.0180  0.0244  0.0316  0.0164   \n",
       "3  0.1264  ...  0.0121  0.0036  0.0150  0.0085  0.0073  0.0050  0.0044   \n",
       "4  0.4459  ...  0.0031  0.0054  0.0105  0.0110  0.0015  0.0072  0.0048   \n",
       "\n",
       "       58      59  60  \n",
       "0  0.0090  0.0032   R  \n",
       "1  0.0052  0.0044   R  \n",
       "2  0.0095  0.0078   R  \n",
       "3  0.0040  0.0117   R  \n",
       "4  0.0107  0.0094   R  \n",
       "\n",
       "[5 rows x 61 columns]"
      ]
     },
     "execution_count": 67,
     "metadata": {},
     "output_type": "execute_result"
    }
   ],
   "source": [
    "df = pd.read_csv(r\"C:\\\\Users\\\\oem\\\\Downloads\\\\sonar.csv\",header=None)\n",
    "df.head()"
   ]
  },
  {
   "cell_type": "code",
   "execution_count": 68,
   "id": "a89f87df",
   "metadata": {},
   "outputs": [
    {
     "data": {
      "text/plain": [
       "Int64Index([ 0,  1,  2,  3,  4,  5,  6,  7,  8,  9, 10, 11, 12, 13, 14, 15, 16,\n",
       "            17, 18, 19, 20, 21, 22, 23, 24, 25, 26, 27, 28, 29, 30, 31, 32, 33,\n",
       "            34, 35, 36, 37, 38, 39, 40, 41, 42, 43, 44, 45, 46, 47, 48, 49, 50,\n",
       "            51, 52, 53, 54, 55, 56, 57, 58, 59, 60],\n",
       "           dtype='int64')"
      ]
     },
     "execution_count": 68,
     "metadata": {},
     "output_type": "execute_result"
    }
   ],
   "source": [
    "df.columns\n"
   ]
  },
  {
   "cell_type": "code",
   "execution_count": 69,
   "id": "d56610fe",
   "metadata": {},
   "outputs": [
    {
     "data": {
      "text/plain": [
       "(208, 61)"
      ]
     },
     "execution_count": 69,
     "metadata": {},
     "output_type": "execute_result"
    }
   ],
   "source": [
    "df.shape"
   ]
  },
  {
   "cell_type": "code",
   "execution_count": 70,
   "id": "1619b3c3",
   "metadata": {},
   "outputs": [
    {
     "data": {
      "text/plain": [
       "0     0\n",
       "1     0\n",
       "2     0\n",
       "3     0\n",
       "4     0\n",
       "     ..\n",
       "56    0\n",
       "57    0\n",
       "58    0\n",
       "59    0\n",
       "60    0\n",
       "Length: 61, dtype: int64"
      ]
     },
     "execution_count": 70,
     "metadata": {},
     "output_type": "execute_result"
    }
   ],
   "source": [
    "df.isnull().sum()"
   ]
  },
  {
   "cell_type": "code",
   "execution_count": 71,
   "id": "dd30cbd5",
   "metadata": {},
   "outputs": [],
   "source": [
    "from sklearn.preprocessing import LabelEncoder"
   ]
  },
  {
   "cell_type": "code",
   "execution_count": 72,
   "id": "b075fb2a",
   "metadata": {},
   "outputs": [
    {
     "name": "stdout",
     "output_type": "stream",
     "text": [
      "(208, 60)\n",
      "(208,)\n"
     ]
    }
   ],
   "source": [
    "x = df.iloc[:,:-1]\n",
    "y = df.iloc[:,-1]\n",
    "print(x.shape)\n",
    "print(y.shape)"
   ]
  },
  {
   "cell_type": "code",
   "execution_count": 73,
   "id": "271904ac",
   "metadata": {},
   "outputs": [
    {
     "data": {
      "text/plain": [
       "0    R\n",
       "1    R\n",
       "2    R\n",
       "3    R\n",
       "4    R\n",
       "Name: 60, dtype: object"
      ]
     },
     "execution_count": 73,
     "metadata": {},
     "output_type": "execute_result"
    }
   ],
   "source": [
    "y.head()"
   ]
  },
  {
   "cell_type": "code",
   "execution_count": 74,
   "id": "a8ddb4ed",
   "metadata": {},
   "outputs": [
    {
     "data": {
      "text/plain": [
       "array([1, 1, 1, 1, 1])"
      ]
     },
     "execution_count": 74,
     "metadata": {},
     "output_type": "execute_result"
    }
   ],
   "source": [
    "lb = LabelEncoder()\n",
    "y = lb.fit_transform(y)\n",
    "y[:5]"
   ]
  },
  {
   "cell_type": "code",
   "execution_count": 75,
   "id": "bf4a4a2b",
   "metadata": {},
   "outputs": [
    {
     "name": "stdout",
     "output_type": "stream",
     "text": [
      "[0, 1]\n"
     ]
    }
   ],
   "source": [
    "print(list(set(y)))"
   ]
  },
  {
   "cell_type": "code",
   "execution_count": null,
   "id": "236eef7a",
   "metadata": {},
   "outputs": [],
   "source": []
  },
  {
   "cell_type": "code",
   "execution_count": 76,
   "id": "e6a8d872",
   "metadata": {},
   "outputs": [],
   "source": [
    "from sklearn.model_selection import train_test_split"
   ]
  },
  {
   "cell_type": "code",
   "execution_count": 77,
   "id": "7e01f561",
   "metadata": {},
   "outputs": [
    {
     "name": "stdout",
     "output_type": "stream",
     "text": [
      "(156, 60)\n",
      "(52, 60)\n",
      "(156,)\n",
      "(52,)\n"
     ]
    }
   ],
   "source": [
    "x_train,x_test,y_train,y_test = train_test_split(x,y,test_size=0.25)\n",
    "print(x_train.shape)\n",
    "print(x_test.shape)\n",
    "print(y_train.shape)\n",
    "print(y_test.shape)"
   ]
  },
  {
   "cell_type": "code",
   "execution_count": 78,
   "id": "fc5e7bbc",
   "metadata": {},
   "outputs": [],
   "source": [
    "#####build the ANN classification model\n",
    "#model-1(without dropout layer)"
   ]
  },
  {
   "cell_type": "code",
   "execution_count": 79,
   "id": "67277756",
   "metadata": {},
   "outputs": [],
   "source": [
    "m1=Sequential()                                       ###input layer = 60 neurons\n",
    "m1.add(Dense(60,activation='relu',input_dim=60))      ###H1 layer has 60\n",
    "m1.add(Dense(30,activation='relu'))                   ###H2 has 30 neurons\n",
    "m1.add(Dense(1,activation='sigmoid'))                 ###output layers has 1 neuron,activation='sigmoid'\n",
    "\n",
    "m1.compile(optimizer='adam',loss='binary_crossentropy',metrics=['accuracy'])"
   ]
  },
  {
   "cell_type": "code",
   "execution_count": 80,
   "id": "de7dfa14",
   "metadata": {},
   "outputs": [
    {
     "name": "stdout",
     "output_type": "stream",
     "text": [
      "Epoch 1/30\n",
      "5/5 [==============================] - 1s 44ms/step - loss: 0.7110 - accuracy: 0.4615 - val_loss: 0.6951 - val_accuracy: 0.5192\n",
      "Epoch 2/30\n",
      "5/5 [==============================] - 0s 11ms/step - loss: 0.6947 - accuracy: 0.4936 - val_loss: 0.6844 - val_accuracy: 0.5962\n",
      "Epoch 3/30\n",
      "5/5 [==============================] - 0s 10ms/step - loss: 0.6831 - accuracy: 0.5897 - val_loss: 0.6778 - val_accuracy: 0.5962\n",
      "Epoch 4/30\n",
      "5/5 [==============================] - 0s 10ms/step - loss: 0.6743 - accuracy: 0.6282 - val_loss: 0.6708 - val_accuracy: 0.6538\n",
      "Epoch 5/30\n",
      "5/5 [==============================] - 0s 8ms/step - loss: 0.6657 - accuracy: 0.6538 - val_loss: 0.6623 - val_accuracy: 0.6731\n",
      "Epoch 6/30\n",
      "5/5 [==============================] - 0s 10ms/step - loss: 0.6574 - accuracy: 0.6667 - val_loss: 0.6536 - val_accuracy: 0.6923\n",
      "Epoch 7/30\n",
      "5/5 [==============================] - 0s 10ms/step - loss: 0.6487 - accuracy: 0.6731 - val_loss: 0.6441 - val_accuracy: 0.7115\n",
      "Epoch 8/30\n",
      "5/5 [==============================] - 0s 10ms/step - loss: 0.6379 - accuracy: 0.6923 - val_loss: 0.6358 - val_accuracy: 0.7308\n",
      "Epoch 9/30\n",
      "5/5 [==============================] - 0s 8ms/step - loss: 0.6283 - accuracy: 0.7564 - val_loss: 0.6262 - val_accuracy: 0.7115\n",
      "Epoch 10/30\n",
      "5/5 [==============================] - 0s 6ms/step - loss: 0.6184 - accuracy: 0.7500 - val_loss: 0.6164 - val_accuracy: 0.6923\n",
      "Epoch 11/30\n",
      "5/5 [==============================] - 0s 10ms/step - loss: 0.6058 - accuracy: 0.7500 - val_loss: 0.6071 - val_accuracy: 0.7115\n",
      "Epoch 12/30\n",
      "5/5 [==============================] - 0s 9ms/step - loss: 0.5945 - accuracy: 0.7821 - val_loss: 0.5991 - val_accuracy: 0.7500\n",
      "Epoch 13/30\n",
      "5/5 [==============================] - 0s 8ms/step - loss: 0.5833 - accuracy: 0.7756 - val_loss: 0.5893 - val_accuracy: 0.7500\n",
      "Epoch 14/30\n",
      "5/5 [==============================] - 0s 8ms/step - loss: 0.5698 - accuracy: 0.8013 - val_loss: 0.5797 - val_accuracy: 0.7115\n",
      "Epoch 15/30\n",
      "5/5 [==============================] - 0s 10ms/step - loss: 0.5554 - accuracy: 0.8077 - val_loss: 0.5684 - val_accuracy: 0.7308\n",
      "Epoch 16/30\n",
      "5/5 [==============================] - 0s 10ms/step - loss: 0.5382 - accuracy: 0.8141 - val_loss: 0.5580 - val_accuracy: 0.7500\n",
      "Epoch 17/30\n",
      "5/5 [==============================] - 0s 8ms/step - loss: 0.5235 - accuracy: 0.8141 - val_loss: 0.5468 - val_accuracy: 0.7500\n",
      "Epoch 18/30\n",
      "5/5 [==============================] - 0s 10ms/step - loss: 0.5101 - accuracy: 0.8077 - val_loss: 0.5380 - val_accuracy: 0.7115\n",
      "Epoch 19/30\n",
      "5/5 [==============================] - 0s 8ms/step - loss: 0.4962 - accuracy: 0.8077 - val_loss: 0.5350 - val_accuracy: 0.7115\n",
      "Epoch 20/30\n",
      "5/5 [==============================] - 0s 10ms/step - loss: 0.4802 - accuracy: 0.8141 - val_loss: 0.5227 - val_accuracy: 0.7500\n",
      "Epoch 21/30\n",
      "5/5 [==============================] - 0s 8ms/step - loss: 0.4673 - accuracy: 0.8333 - val_loss: 0.5186 - val_accuracy: 0.7500\n",
      "Epoch 22/30\n",
      "5/5 [==============================] - 0s 10ms/step - loss: 0.4543 - accuracy: 0.8077 - val_loss: 0.5231 - val_accuracy: 0.7308\n",
      "Epoch 23/30\n",
      "5/5 [==============================] - 0s 8ms/step - loss: 0.4443 - accuracy: 0.8205 - val_loss: 0.5102 - val_accuracy: 0.7308\n",
      "Epoch 24/30\n",
      "5/5 [==============================] - 0s 8ms/step - loss: 0.4289 - accuracy: 0.8333 - val_loss: 0.5091 - val_accuracy: 0.7500\n",
      "Epoch 25/30\n",
      "5/5 [==============================] - 0s 10ms/step - loss: 0.4241 - accuracy: 0.8333 - val_loss: 0.5077 - val_accuracy: 0.7692\n",
      "Epoch 26/30\n",
      "5/5 [==============================] - 0s 8ms/step - loss: 0.4081 - accuracy: 0.8205 - val_loss: 0.5114 - val_accuracy: 0.7692\n",
      "Epoch 27/30\n",
      "5/5 [==============================] - 0s 8ms/step - loss: 0.4037 - accuracy: 0.8077 - val_loss: 0.5101 - val_accuracy: 0.7692\n",
      "Epoch 28/30\n",
      "5/5 [==============================] - 0s 10ms/step - loss: 0.3905 - accuracy: 0.8269 - val_loss: 0.5016 - val_accuracy: 0.7308\n",
      "Epoch 29/30\n",
      "5/5 [==============================] - 0s 8ms/step - loss: 0.3925 - accuracy: 0.8526 - val_loss: 0.5024 - val_accuracy: 0.7692\n",
      "Epoch 30/30\n",
      "5/5 [==============================] - 0s 8ms/step - loss: 0.3774 - accuracy: 0.8333 - val_loss: 0.5180 - val_accuracy: 0.7500\n"
     ]
    }
   ],
   "source": [
    "h1 = m1.fit(x_train,y_train,epochs=30,validation_data=(x_test,y_test))"
   ]
  },
  {
   "cell_type": "code",
   "execution_count": 81,
   "id": "e2d36c63",
   "metadata": {},
   "outputs": [
    {
     "data": {
      "text/html": [
       "<div>\n",
       "<style scoped>\n",
       "    .dataframe tbody tr th:only-of-type {\n",
       "        vertical-align: middle;\n",
       "    }\n",
       "\n",
       "    .dataframe tbody tr th {\n",
       "        vertical-align: top;\n",
       "    }\n",
       "\n",
       "    .dataframe thead th {\n",
       "        text-align: right;\n",
       "    }\n",
       "</style>\n",
       "<table border=\"1\" class=\"dataframe\">\n",
       "  <thead>\n",
       "    <tr style=\"text-align: right;\">\n",
       "      <th></th>\n",
       "      <th>loss</th>\n",
       "      <th>accuracy</th>\n",
       "      <th>val_loss</th>\n",
       "      <th>val_accuracy</th>\n",
       "      <th>Epochs</th>\n",
       "    </tr>\n",
       "  </thead>\n",
       "  <tbody>\n",
       "    <tr>\n",
       "      <th>20</th>\n",
       "      <td>0.467277</td>\n",
       "      <td>0.833333</td>\n",
       "      <td>0.518619</td>\n",
       "      <td>0.750000</td>\n",
       "      <td>20</td>\n",
       "    </tr>\n",
       "    <tr>\n",
       "      <th>21</th>\n",
       "      <td>0.454330</td>\n",
       "      <td>0.807692</td>\n",
       "      <td>0.523126</td>\n",
       "      <td>0.730769</td>\n",
       "      <td>21</td>\n",
       "    </tr>\n",
       "    <tr>\n",
       "      <th>22</th>\n",
       "      <td>0.444314</td>\n",
       "      <td>0.820513</td>\n",
       "      <td>0.510243</td>\n",
       "      <td>0.730769</td>\n",
       "      <td>22</td>\n",
       "    </tr>\n",
       "    <tr>\n",
       "      <th>23</th>\n",
       "      <td>0.428852</td>\n",
       "      <td>0.833333</td>\n",
       "      <td>0.509129</td>\n",
       "      <td>0.750000</td>\n",
       "      <td>23</td>\n",
       "    </tr>\n",
       "    <tr>\n",
       "      <th>24</th>\n",
       "      <td>0.424132</td>\n",
       "      <td>0.833333</td>\n",
       "      <td>0.507747</td>\n",
       "      <td>0.769231</td>\n",
       "      <td>24</td>\n",
       "    </tr>\n",
       "    <tr>\n",
       "      <th>25</th>\n",
       "      <td>0.408068</td>\n",
       "      <td>0.820513</td>\n",
       "      <td>0.511436</td>\n",
       "      <td>0.769231</td>\n",
       "      <td>25</td>\n",
       "    </tr>\n",
       "    <tr>\n",
       "      <th>26</th>\n",
       "      <td>0.403746</td>\n",
       "      <td>0.807692</td>\n",
       "      <td>0.510125</td>\n",
       "      <td>0.769231</td>\n",
       "      <td>26</td>\n",
       "    </tr>\n",
       "    <tr>\n",
       "      <th>27</th>\n",
       "      <td>0.390452</td>\n",
       "      <td>0.826923</td>\n",
       "      <td>0.501577</td>\n",
       "      <td>0.730769</td>\n",
       "      <td>27</td>\n",
       "    </tr>\n",
       "    <tr>\n",
       "      <th>28</th>\n",
       "      <td>0.392545</td>\n",
       "      <td>0.852564</td>\n",
       "      <td>0.502436</td>\n",
       "      <td>0.769231</td>\n",
       "      <td>28</td>\n",
       "    </tr>\n",
       "    <tr>\n",
       "      <th>29</th>\n",
       "      <td>0.377372</td>\n",
       "      <td>0.833333</td>\n",
       "      <td>0.517954</td>\n",
       "      <td>0.750000</td>\n",
       "      <td>29</td>\n",
       "    </tr>\n",
       "  </tbody>\n",
       "</table>\n",
       "</div>"
      ],
      "text/plain": [
       "        loss  accuracy  val_loss  val_accuracy  Epochs\n",
       "20  0.467277  0.833333  0.518619      0.750000      20\n",
       "21  0.454330  0.807692  0.523126      0.730769      21\n",
       "22  0.444314  0.820513  0.510243      0.730769      22\n",
       "23  0.428852  0.833333  0.509129      0.750000      23\n",
       "24  0.424132  0.833333  0.507747      0.769231      24\n",
       "25  0.408068  0.820513  0.511436      0.769231      25\n",
       "26  0.403746  0.807692  0.510125      0.769231      26\n",
       "27  0.390452  0.826923  0.501577      0.730769      27\n",
       "28  0.392545  0.852564  0.502436      0.769231      28\n",
       "29  0.377372  0.833333  0.517954      0.750000      29"
      ]
     },
     "execution_count": 81,
     "metadata": {},
     "output_type": "execute_result"
    }
   ],
   "source": [
    "r1 = pd.DataFrame(h1.history)\n",
    "r1['Epochs']=h1.epoch\n",
    "r1.tail(10)"
   ]
  },
  {
   "cell_type": "code",
   "execution_count": 82,
   "id": "3b48f84c",
   "metadata": {},
   "outputs": [],
   "source": [
    "#### model-2(without dropout layer)"
   ]
  },
  {
   "cell_type": "code",
   "execution_count": 83,
   "id": "0f182daa",
   "metadata": {},
   "outputs": [],
   "source": [
    "m2 = Sequential()                                     ###input layer = 60 neurons\n",
    "m2.add(Dense(60,activation='relu',input_dim=60)) \n",
    "m2.add(Dropout(0.4))                                  ###H1 layer has 60\n",
    "m2.add(Dense(30,activation='relu'))\n",
    "m2.add(Dropout(0.4))                                  ###H2 has 30 neurons\n",
    "m2.add(Dense(1,activation='sigmoid'))                 ###output layers has 1 neuron,activation='sigmoid'\n",
    "\n",
    "m2.compile(optimizer='adam',loss='binary_crossentropy',metrics=['accuracy'])"
   ]
  },
  {
   "cell_type": "code",
   "execution_count": 84,
   "id": "bd2c8c37",
   "metadata": {},
   "outputs": [
    {
     "name": "stdout",
     "output_type": "stream",
     "text": [
      "Epoch 1/30\n",
      "5/5 [==============================] - 1s 46ms/step - loss: 0.7048 - accuracy: 0.5449 - val_loss: 0.6840 - val_accuracy: 0.6346\n",
      "Epoch 2/30\n",
      "5/5 [==============================] - 0s 9ms/step - loss: 0.7058 - accuracy: 0.4936 - val_loss: 0.6723 - val_accuracy: 0.6154\n",
      "Epoch 3/30\n",
      "5/5 [==============================] - 0s 10ms/step - loss: 0.6910 - accuracy: 0.5128 - val_loss: 0.6656 - val_accuracy: 0.6154\n",
      "Epoch 4/30\n",
      "5/5 [==============================] - 0s 10ms/step - loss: 0.6767 - accuracy: 0.5513 - val_loss: 0.6612 - val_accuracy: 0.5962\n",
      "Epoch 5/30\n",
      "5/5 [==============================] - 0s 8ms/step - loss: 0.6912 - accuracy: 0.5449 - val_loss: 0.6576 - val_accuracy: 0.6538\n",
      "Epoch 6/30\n",
      "5/5 [==============================] - 0s 8ms/step - loss: 0.6547 - accuracy: 0.6154 - val_loss: 0.6545 - val_accuracy: 0.6538\n",
      "Epoch 7/30\n",
      "5/5 [==============================] - 0s 8ms/step - loss: 0.6472 - accuracy: 0.6026 - val_loss: 0.6508 - val_accuracy: 0.6346\n",
      "Epoch 8/30\n",
      "5/5 [==============================] - 0s 10ms/step - loss: 0.6590 - accuracy: 0.5833 - val_loss: 0.6471 - val_accuracy: 0.6154\n",
      "Epoch 9/30\n",
      "5/5 [==============================] - 0s 8ms/step - loss: 0.6468 - accuracy: 0.6538 - val_loss: 0.6423 - val_accuracy: 0.6538\n",
      "Epoch 10/30\n",
      "5/5 [==============================] - 0s 10ms/step - loss: 0.6446 - accuracy: 0.6474 - val_loss: 0.6363 - val_accuracy: 0.6346\n",
      "Epoch 11/30\n",
      "5/5 [==============================] - 0s 10ms/step - loss: 0.6525 - accuracy: 0.6346 - val_loss: 0.6319 - val_accuracy: 0.6923\n",
      "Epoch 12/30\n",
      "5/5 [==============================] - 0s 10ms/step - loss: 0.6336 - accuracy: 0.6410 - val_loss: 0.6271 - val_accuracy: 0.6923\n",
      "Epoch 13/30\n",
      "5/5 [==============================] - 0s 9ms/step - loss: 0.6240 - accuracy: 0.6795 - val_loss: 0.6226 - val_accuracy: 0.6731\n",
      "Epoch 14/30\n",
      "5/5 [==============================] - 0s 11ms/step - loss: 0.6142 - accuracy: 0.6603 - val_loss: 0.6184 - val_accuracy: 0.6346\n",
      "Epoch 15/30\n",
      "5/5 [==============================] - 0s 10ms/step - loss: 0.6537 - accuracy: 0.6474 - val_loss: 0.6146 - val_accuracy: 0.6538\n",
      "Epoch 16/30\n",
      "5/5 [==============================] - 0s 8ms/step - loss: 0.6340 - accuracy: 0.6282 - val_loss: 0.6118 - val_accuracy: 0.6538\n",
      "Epoch 17/30\n",
      "5/5 [==============================] - 0s 8ms/step - loss: 0.6173 - accuracy: 0.6667 - val_loss: 0.6069 - val_accuracy: 0.6538\n",
      "Epoch 18/30\n",
      "5/5 [==============================] - 0s 9ms/step - loss: 0.6104 - accuracy: 0.6923 - val_loss: 0.6018 - val_accuracy: 0.6731\n",
      "Epoch 19/30\n",
      "5/5 [==============================] - 0s 10ms/step - loss: 0.5995 - accuracy: 0.6667 - val_loss: 0.5956 - val_accuracy: 0.6923\n",
      "Epoch 20/30\n",
      "5/5 [==============================] - 0s 8ms/step - loss: 0.5932 - accuracy: 0.6987 - val_loss: 0.5899 - val_accuracy: 0.6923\n",
      "Epoch 21/30\n",
      "5/5 [==============================] - 0s 8ms/step - loss: 0.5769 - accuracy: 0.7051 - val_loss: 0.5836 - val_accuracy: 0.7115\n",
      "Epoch 22/30\n",
      "5/5 [==============================] - 0s 12ms/step - loss: 0.5662 - accuracy: 0.7179 - val_loss: 0.5790 - val_accuracy: 0.6923\n",
      "Epoch 23/30\n",
      "5/5 [==============================] - 0s 8ms/step - loss: 0.5782 - accuracy: 0.6731 - val_loss: 0.5732 - val_accuracy: 0.6923\n",
      "Epoch 24/30\n",
      "5/5 [==============================] - 0s 10ms/step - loss: 0.5587 - accuracy: 0.7436 - val_loss: 0.5682 - val_accuracy: 0.6923\n",
      "Epoch 25/30\n",
      "5/5 [==============================] - 0s 9ms/step - loss: 0.5838 - accuracy: 0.6603 - val_loss: 0.5664 - val_accuracy: 0.6923\n",
      "Epoch 26/30\n",
      "5/5 [==============================] - 0s 8ms/step - loss: 0.5596 - accuracy: 0.7308 - val_loss: 0.5656 - val_accuracy: 0.6923\n",
      "Epoch 27/30\n",
      "5/5 [==============================] - 0s 10ms/step - loss: 0.5309 - accuracy: 0.7628 - val_loss: 0.5609 - val_accuracy: 0.6923\n",
      "Epoch 28/30\n",
      "5/5 [==============================] - 0s 8ms/step - loss: 0.5419 - accuracy: 0.7308 - val_loss: 0.5533 - val_accuracy: 0.6923\n",
      "Epoch 29/30\n",
      "5/5 [==============================] - 0s 10ms/step - loss: 0.5517 - accuracy: 0.7564 - val_loss: 0.5508 - val_accuracy: 0.6923\n",
      "Epoch 30/30\n",
      "5/5 [==============================] - 0s 8ms/step - loss: 0.5183 - accuracy: 0.7628 - val_loss: 0.5459 - val_accuracy: 0.7115\n"
     ]
    }
   ],
   "source": [
    "h2 = m2.fit(x_train,y_train,epochs=30,validation_data=(x_test,y_test))"
   ]
  },
  {
   "cell_type": "code",
   "execution_count": 85,
   "id": "8d0e6379",
   "metadata": {},
   "outputs": [
    {
     "data": {
      "text/html": [
       "<div>\n",
       "<style scoped>\n",
       "    .dataframe tbody tr th:only-of-type {\n",
       "        vertical-align: middle;\n",
       "    }\n",
       "\n",
       "    .dataframe tbody tr th {\n",
       "        vertical-align: top;\n",
       "    }\n",
       "\n",
       "    .dataframe thead th {\n",
       "        text-align: right;\n",
       "    }\n",
       "</style>\n",
       "<table border=\"1\" class=\"dataframe\">\n",
       "  <thead>\n",
       "    <tr style=\"text-align: right;\">\n",
       "      <th></th>\n",
       "      <th>loss</th>\n",
       "      <th>accuracy</th>\n",
       "      <th>val_loss</th>\n",
       "      <th>val_accuracy</th>\n",
       "      <th>Epochs</th>\n",
       "    </tr>\n",
       "  </thead>\n",
       "  <tbody>\n",
       "    <tr>\n",
       "      <th>20</th>\n",
       "      <td>0.467277</td>\n",
       "      <td>0.833333</td>\n",
       "      <td>0.518619</td>\n",
       "      <td>0.750000</td>\n",
       "      <td>20</td>\n",
       "    </tr>\n",
       "    <tr>\n",
       "      <th>21</th>\n",
       "      <td>0.454330</td>\n",
       "      <td>0.807692</td>\n",
       "      <td>0.523126</td>\n",
       "      <td>0.730769</td>\n",
       "      <td>21</td>\n",
       "    </tr>\n",
       "    <tr>\n",
       "      <th>22</th>\n",
       "      <td>0.444314</td>\n",
       "      <td>0.820513</td>\n",
       "      <td>0.510243</td>\n",
       "      <td>0.730769</td>\n",
       "      <td>22</td>\n",
       "    </tr>\n",
       "    <tr>\n",
       "      <th>23</th>\n",
       "      <td>0.428852</td>\n",
       "      <td>0.833333</td>\n",
       "      <td>0.509129</td>\n",
       "      <td>0.750000</td>\n",
       "      <td>23</td>\n",
       "    </tr>\n",
       "    <tr>\n",
       "      <th>24</th>\n",
       "      <td>0.424132</td>\n",
       "      <td>0.833333</td>\n",
       "      <td>0.507747</td>\n",
       "      <td>0.769231</td>\n",
       "      <td>24</td>\n",
       "    </tr>\n",
       "    <tr>\n",
       "      <th>25</th>\n",
       "      <td>0.408068</td>\n",
       "      <td>0.820513</td>\n",
       "      <td>0.511436</td>\n",
       "      <td>0.769231</td>\n",
       "      <td>25</td>\n",
       "    </tr>\n",
       "    <tr>\n",
       "      <th>26</th>\n",
       "      <td>0.403746</td>\n",
       "      <td>0.807692</td>\n",
       "      <td>0.510125</td>\n",
       "      <td>0.769231</td>\n",
       "      <td>26</td>\n",
       "    </tr>\n",
       "    <tr>\n",
       "      <th>27</th>\n",
       "      <td>0.390452</td>\n",
       "      <td>0.826923</td>\n",
       "      <td>0.501577</td>\n",
       "      <td>0.730769</td>\n",
       "      <td>27</td>\n",
       "    </tr>\n",
       "    <tr>\n",
       "      <th>28</th>\n",
       "      <td>0.392545</td>\n",
       "      <td>0.852564</td>\n",
       "      <td>0.502436</td>\n",
       "      <td>0.769231</td>\n",
       "      <td>28</td>\n",
       "    </tr>\n",
       "    <tr>\n",
       "      <th>29</th>\n",
       "      <td>0.377372</td>\n",
       "      <td>0.833333</td>\n",
       "      <td>0.517954</td>\n",
       "      <td>0.750000</td>\n",
       "      <td>29</td>\n",
       "    </tr>\n",
       "  </tbody>\n",
       "</table>\n",
       "</div>"
      ],
      "text/plain": [
       "        loss  accuracy  val_loss  val_accuracy  Epochs\n",
       "20  0.467277  0.833333  0.518619      0.750000      20\n",
       "21  0.454330  0.807692  0.523126      0.730769      21\n",
       "22  0.444314  0.820513  0.510243      0.730769      22\n",
       "23  0.428852  0.833333  0.509129      0.750000      23\n",
       "24  0.424132  0.833333  0.507747      0.769231      24\n",
       "25  0.408068  0.820513  0.511436      0.769231      25\n",
       "26  0.403746  0.807692  0.510125      0.769231      26\n",
       "27  0.390452  0.826923  0.501577      0.730769      27\n",
       "28  0.392545  0.852564  0.502436      0.769231      28\n",
       "29  0.377372  0.833333  0.517954      0.750000      29"
      ]
     },
     "execution_count": 85,
     "metadata": {},
     "output_type": "execute_result"
    }
   ],
   "source": [
    "r2 = pd.DataFrame(h1.history)\n",
    "r2['Epochs']=h2.epoch\n",
    "r2.tail(10)"
   ]
  },
  {
   "cell_type": "code",
   "execution_count": 86,
   "id": "c06e8b0e",
   "metadata": {},
   "outputs": [],
   "source": [
    "####callbacks"
   ]
  },
  {
   "cell_type": "code",
   "execution_count": 87,
   "id": "a45d3e1c",
   "metadata": {},
   "outputs": [],
   "source": [
    "from sklearn.datasets import make_moons"
   ]
  },
  {
   "cell_type": "code",
   "execution_count": 88,
   "id": "a9e7f277",
   "metadata": {},
   "outputs": [],
   "source": [
    "from tensorflow.keras.callbacks import EarlyStopping\n",
    "es = EarlyStopping(monitor='val_loss',patience=5)\n"
   ]
  },
  {
   "cell_type": "code",
   "execution_count": 89,
   "id": "eb1f3689",
   "metadata": {},
   "outputs": [
    {
     "name": "stdout",
     "output_type": "stream",
     "text": [
      "(100, 2)\n",
      "(100,)\n"
     ]
    }
   ],
   "source": [
    "x,y = make_moons(n_samples=100,noise=0.2,random_state=1)\n",
    "print(x.shape)\n",
    "print(y.shape)"
   ]
  },
  {
   "cell_type": "code",
   "execution_count": 90,
   "id": "81171712",
   "metadata": {},
   "outputs": [
    {
     "name": "stdout",
     "output_type": "stream",
     "text": [
      "<class 'numpy.ndarray'> <class 'numpy.ndarray'>\n"
     ]
    }
   ],
   "source": [
    "print(type(x),type(y))"
   ]
  },
  {
   "cell_type": "code",
   "execution_count": 91,
   "id": "97d4f9c6",
   "metadata": {},
   "outputs": [
    {
     "data": {
      "text/plain": [
       "array([[ 1.36698238, -0.23541584],\n",
       "       [ 1.76404402, -0.34563288],\n",
       "       [-0.37868174,  0.41004375],\n",
       "       [ 1.15113747, -0.13597622],\n",
       "       [ 2.31168314,  0.32295125]])"
      ]
     },
     "execution_count": 91,
     "metadata": {},
     "output_type": "execute_result"
    }
   ],
   "source": [
    "x[:5]"
   ]
  },
  {
   "cell_type": "code",
   "execution_count": 94,
   "id": "349e4012",
   "metadata": {},
   "outputs": [
    {
     "data": {
      "text/plain": [
       "array([1, 1, 0, 1, 1], dtype=int64)"
      ]
     },
     "execution_count": 94,
     "metadata": {},
     "output_type": "execute_result"
    }
   ],
   "source": [
    "y[:5]"
   ]
  },
  {
   "cell_type": "code",
   "execution_count": 95,
   "id": "5029f22e",
   "metadata": {},
   "outputs": [
    {
     "data": {
      "image/png": "[encoded data removed]",
      "text/plain": [
       "<Figure size 432x288 with 1 Axes>"
      ]
     },
     "metadata": {
      "needs_background": "light"
     },
     "output_type": "display_data"
    }
   ],
   "source": [
    "plt.scatter(x[:,0],x[:,1],c=y)\n",
    "plt.xlabel('x1')\n",
    "plt.ylabel('x2')\n",
    "plt.show()"
   ]
  },
  {
   "cell_type": "code",
   "execution_count": 97,
   "id": "77df0c0f",
   "metadata": {},
   "outputs": [
    {
     "name": "stdout",
     "output_type": "stream",
     "text": [
      "(75, 2)\n",
      "(25, 2)\n",
      "(75,)\n",
      "(25,)\n"
     ]
    }
   ],
   "source": [
    "x_tr,x_te,y_tr,y_te = train_test_split(x,y,test_size=0.25)\n",
    "print(x_tr.shape)\n",
    "print(x_te.shape)\n",
    "print(y_tr.shape)\n",
    "print(y_te.shape)"
   ]
  },
  {
   "cell_type": "code",
   "execution_count": 98,
   "id": "cbc1d1bb",
   "metadata": {},
   "outputs": [],
   "source": [
    "####build the ANN classification model with early stopping call backs"
   ]
  },
  {
   "cell_type": "code",
   "execution_count": 102,
   "id": "e9c342fd",
   "metadata": {},
   "outputs": [],
   "source": [
    "m3 = Sequential()\n",
    "m3.add(Dense(100,activation='relu',input_dim=2))\n",
    "m3.add(Dense(50,activation='relu'))\n",
    "m3.add(Dense(1,activation='sigmoid'))\n",
    "\n",
    "m3.compile(optimizer='adam',loss='binary_crossentropy',metrics=['accuracy'])"
   ]
  },
  {
   "cell_type": "code",
   "execution_count": 105,
   "id": "81a14585",
   "metadata": {},
   "outputs": [
    {
     "name": "stdout",
     "output_type": "stream",
     "text": [
      "Epoch 1/100\n",
      "3/3 [==============================] - 1s 79ms/step - loss: 0.7220 - accuracy: 0.3600 - val_loss: 0.6975 - val_accuracy: 0.4800\n",
      "Epoch 2/100\n",
      "3/3 [==============================] - 0s 17ms/step - loss: 0.6829 - accuracy: 0.6800 - val_loss: 0.6559 - val_accuracy: 0.8000\n",
      "Epoch 3/100\n",
      "3/3 [==============================] - 0s 16ms/step - loss: 0.6516 - accuracy: 0.7867 - val_loss: 0.6183 - val_accuracy: 0.9200\n",
      "Epoch 4/100\n",
      "3/3 [==============================] - 0s 16ms/step - loss: 0.6197 - accuracy: 0.8000 - val_loss: 0.5845 - val_accuracy: 0.9200\n",
      "Epoch 5/100\n",
      "3/3 [==============================] - 0s 12ms/step - loss: 0.5891 - accuracy: 0.8000 - val_loss: 0.5547 - val_accuracy: 0.9200\n",
      "Epoch 6/100\n",
      "3/3 [==============================] - 0s 16ms/step - loss: 0.5643 - accuracy: 0.8000 - val_loss: 0.5252 - val_accuracy: 0.9200\n",
      "Epoch 7/100\n",
      "3/3 [==============================] - 0s 12ms/step - loss: 0.5407 - accuracy: 0.8000 - val_loss: 0.4970 - val_accuracy: 0.9200\n",
      "Epoch 8/100\n",
      "3/3 [==============================] - 0s 16ms/step - loss: 0.5178 - accuracy: 0.8000 - val_loss: 0.4695 - val_accuracy: 0.9200\n",
      "Epoch 9/100\n",
      "3/3 [==============================] - 0s 20ms/step - loss: 0.4971 - accuracy: 0.8000 - val_loss: 0.4439 - val_accuracy: 0.9200\n",
      "Epoch 10/100\n",
      "3/3 [==============================] - 0s 20ms/step - loss: 0.4778 - accuracy: 0.8000 - val_loss: 0.4210 - val_accuracy: 0.9200\n",
      "Epoch 11/100\n",
      "3/3 [==============================] - 0s 16ms/step - loss: 0.4593 - accuracy: 0.8000 - val_loss: 0.3993 - val_accuracy: 0.9200\n",
      "Epoch 12/100\n",
      "3/3 [==============================] - 0s 16ms/step - loss: 0.4433 - accuracy: 0.8000 - val_loss: 0.3776 - val_accuracy: 0.9200\n",
      "Epoch 13/100\n",
      "3/3 [==============================] - 0s 16ms/step - loss: 0.4282 - accuracy: 0.8000 - val_loss: 0.3566 - val_accuracy: 0.9200\n",
      "Epoch 14/100\n",
      "3/3 [==============================] - 0s 12ms/step - loss: 0.4136 - accuracy: 0.8000 - val_loss: 0.3380 - val_accuracy: 0.9200\n",
      "Epoch 15/100\n",
      "3/3 [==============================] - 0s 16ms/step - loss: 0.4016 - accuracy: 0.8133 - val_loss: 0.3209 - val_accuracy: 0.9200\n",
      "Epoch 16/100\n",
      "3/3 [==============================] - 0s 16ms/step - loss: 0.3914 - accuracy: 0.8133 - val_loss: 0.3061 - val_accuracy: 0.9200\n",
      "Epoch 17/100\n",
      "3/3 [==============================] - 0s 20ms/step - loss: 0.3828 - accuracy: 0.8267 - val_loss: 0.2932 - val_accuracy: 0.9200\n",
      "Epoch 18/100\n",
      "3/3 [==============================] - 0s 16ms/step - loss: 0.3739 - accuracy: 0.8400 - val_loss: 0.2825 - val_accuracy: 0.9200\n",
      "Epoch 19/100\n",
      "3/3 [==============================] - 0s 16ms/step - loss: 0.3654 - accuracy: 0.8400 - val_loss: 0.2738 - val_accuracy: 0.9200\n",
      "Epoch 20/100\n",
      "3/3 [==============================] - 0s 16ms/step - loss: 0.3586 - accuracy: 0.8400 - val_loss: 0.2659 - val_accuracy: 0.9200\n",
      "Epoch 21/100\n",
      "3/3 [==============================] - 0s 16ms/step - loss: 0.3523 - accuracy: 0.8400 - val_loss: 0.2598 - val_accuracy: 0.9200\n",
      "Epoch 22/100\n",
      "3/3 [==============================] - 0s 16ms/step - loss: 0.3461 - accuracy: 0.8400 - val_loss: 0.2541 - val_accuracy: 0.9200\n",
      "Epoch 23/100\n",
      "3/3 [==============================] - 0s 20ms/step - loss: 0.3404 - accuracy: 0.8400 - val_loss: 0.2490 - val_accuracy: 0.9200\n",
      "Epoch 24/100\n",
      "3/3 [==============================] - 0s 16ms/step - loss: 0.3363 - accuracy: 0.8400 - val_loss: 0.2436 - val_accuracy: 0.9200\n",
      "Epoch 25/100\n",
      "3/3 [==============================] - 0s 16ms/step - loss: 0.3319 - accuracy: 0.8400 - val_loss: 0.2392 - val_accuracy: 0.9200\n",
      "Epoch 26/100\n",
      "3/3 [==============================] - 0s 16ms/step - loss: 0.3285 - accuracy: 0.8400 - val_loss: 0.2368 - val_accuracy: 0.9200\n",
      "Epoch 27/100\n",
      "3/3 [==============================] - 0s 16ms/step - loss: 0.3243 - accuracy: 0.8400 - val_loss: 0.2331 - val_accuracy: 0.9200\n",
      "Epoch 28/100\n",
      "3/3 [==============================] - 0s 16ms/step - loss: 0.3205 - accuracy: 0.8533 - val_loss: 0.2314 - val_accuracy: 0.9200\n",
      "Epoch 29/100\n",
      "3/3 [==============================] - 0s 16ms/step - loss: 0.3181 - accuracy: 0.8533 - val_loss: 0.2288 - val_accuracy: 0.9200\n",
      "Epoch 30/100\n",
      "3/3 [==============================] - 0s 16ms/step - loss: 0.3146 - accuracy: 0.8533 - val_loss: 0.2266 - val_accuracy: 0.9200\n",
      "Epoch 31/100\n",
      "3/3 [==============================] - 0s 16ms/step - loss: 0.3121 - accuracy: 0.8533 - val_loss: 0.2243 - val_accuracy: 0.9200\n",
      "Epoch 32/100\n",
      "3/3 [==============================] - 0s 16ms/step - loss: 0.3092 - accuracy: 0.8533 - val_loss: 0.2222 - val_accuracy: 0.9200\n",
      "Epoch 33/100\n",
      "3/3 [==============================] - 0s 12ms/step - loss: 0.3070 - accuracy: 0.8533 - val_loss: 0.2203 - val_accuracy: 0.9200\n",
      "Epoch 34/100\n",
      "3/3 [==============================] - 0s 16ms/step - loss: 0.3046 - accuracy: 0.8667 - val_loss: 0.2187 - val_accuracy: 0.9200\n",
      "Epoch 35/100\n",
      "3/3 [==============================] - 0s 16ms/step - loss: 0.3025 - accuracy: 0.8533 - val_loss: 0.2181 - val_accuracy: 0.9200\n",
      "Epoch 36/100\n",
      "3/3 [==============================] - 0s 16ms/step - loss: 0.2995 - accuracy: 0.8533 - val_loss: 0.2160 - val_accuracy: 0.9200\n",
      "Epoch 37/100\n",
      "3/3 [==============================] - 0s 16ms/step - loss: 0.2984 - accuracy: 0.8533 - val_loss: 0.2159 - val_accuracy: 0.9200\n",
      "Epoch 38/100\n",
      "3/3 [==============================] - 0s 20ms/step - loss: 0.2955 - accuracy: 0.8533 - val_loss: 0.2145 - val_accuracy: 0.9200\n",
      "Epoch 39/100\n",
      "3/3 [==============================] - 0s 12ms/step - loss: 0.2931 - accuracy: 0.8533 - val_loss: 0.2151 - val_accuracy: 0.9200\n",
      "Epoch 40/100\n",
      "3/3 [==============================] - 0s 16ms/step - loss: 0.2924 - accuracy: 0.8533 - val_loss: 0.2152 - val_accuracy: 0.9200\n",
      "Epoch 41/100\n",
      "3/3 [==============================] - 0s 16ms/step - loss: 0.2899 - accuracy: 0.8533 - val_loss: 0.2124 - val_accuracy: 0.9200\n",
      "Epoch 42/100\n",
      "3/3 [==============================] - 0s 16ms/step - loss: 0.2878 - accuracy: 0.8667 - val_loss: 0.2103 - val_accuracy: 0.9200\n",
      "Epoch 43/100\n",
      "3/3 [==============================] - 0s 20ms/step - loss: 0.2865 - accuracy: 0.8667 - val_loss: 0.2087 - val_accuracy: 0.9200\n",
      "Epoch 44/100\n",
      "3/3 [==============================] - 0s 16ms/step - loss: 0.2856 - accuracy: 0.8667 - val_loss: 0.2081 - val_accuracy: 0.9200\n",
      "Epoch 45/100\n",
      "3/3 [==============================] - 0s 12ms/step - loss: 0.2827 - accuracy: 0.8667 - val_loss: 0.2052 - val_accuracy: 0.9200\n",
      "Epoch 46/100\n",
      "3/3 [==============================] - 0s 16ms/step - loss: 0.2817 - accuracy: 0.8533 - val_loss: 0.2013 - val_accuracy: 0.9200\n",
      "Epoch 47/100\n",
      "3/3 [==============================] - 0s 16ms/step - loss: 0.2808 - accuracy: 0.8533 - val_loss: 0.1988 - val_accuracy: 0.9200\n",
      "Epoch 48/100\n",
      "3/3 [==============================] - 0s 16ms/step - loss: 0.2800 - accuracy: 0.8533 - val_loss: 0.1974 - val_accuracy: 0.9200\n",
      "Epoch 49/100\n",
      "3/3 [==============================] - 0s 16ms/step - loss: 0.2786 - accuracy: 0.8533 - val_loss: 0.1971 - val_accuracy: 0.9200\n",
      "Epoch 50/100\n",
      "3/3 [==============================] - 0s 12ms/step - loss: 0.2763 - accuracy: 0.8533 - val_loss: 0.1957 - val_accuracy: 0.9200\n",
      "Epoch 51/100\n",
      "3/3 [==============================] - 0s 16ms/step - loss: 0.2752 - accuracy: 0.8533 - val_loss: 0.1974 - val_accuracy: 0.9200\n",
      "Epoch 52/100\n",
      "3/3 [==============================] - 0s 16ms/step - loss: 0.2707 - accuracy: 0.8533 - val_loss: 0.1972 - val_accuracy: 0.9200\n",
      "Epoch 53/100\n",
      "3/3 [==============================] - 0s 12ms/step - loss: 0.2685 - accuracy: 0.8533 - val_loss: 0.1967 - val_accuracy: 0.9200\n"
     ]
    }
   ],
   "source": [
    "es = EarlyStopping(monitor='val_loss',patience=3)\n",
    "\n",
    "h3 = m3.fit(x_tr,y_tr,epochs=100,validation_data=(x_te,y_te),callbacks=[es])"
   ]
  },
  {
   "cell_type": "code",
   "execution_count": 110,
   "id": "57fbe1a4",
   "metadata": {},
   "outputs": [
    {
     "data": {
      "text/html": [
       "<div>\n",
       "<style scoped>\n",
       "    .dataframe tbody tr th:only-of-type {\n",
       "        vertical-align: middle;\n",
       "    }\n",
       "\n",
       "    .dataframe tbody tr th {\n",
       "        vertical-align: top;\n",
       "    }\n",
       "\n",
       "    .dataframe thead th {\n",
       "        text-align: right;\n",
       "    }\n",
       "</style>\n",
       "<table border=\"1\" class=\"dataframe\">\n",
       "  <thead>\n",
       "    <tr style=\"text-align: right;\">\n",
       "      <th></th>\n",
       "      <th>loss</th>\n",
       "      <th>accuracy</th>\n",
       "      <th>val_loss</th>\n",
       "      <th>val_accuracy</th>\n",
       "      <th>Epochs</th>\n",
       "    </tr>\n",
       "  </thead>\n",
       "  <tbody>\n",
       "    <tr>\n",
       "      <th>46</th>\n",
       "      <td>0.280810</td>\n",
       "      <td>0.853333</td>\n",
       "      <td>0.198831</td>\n",
       "      <td>0.92</td>\n",
       "      <td>46</td>\n",
       "    </tr>\n",
       "    <tr>\n",
       "      <th>47</th>\n",
       "      <td>0.279966</td>\n",
       "      <td>0.853333</td>\n",
       "      <td>0.197433</td>\n",
       "      <td>0.92</td>\n",
       "      <td>47</td>\n",
       "    </tr>\n",
       "    <tr>\n",
       "      <th>48</th>\n",
       "      <td>0.278551</td>\n",
       "      <td>0.853333</td>\n",
       "      <td>0.197053</td>\n",
       "      <td>0.92</td>\n",
       "      <td>48</td>\n",
       "    </tr>\n",
       "    <tr>\n",
       "      <th>49</th>\n",
       "      <td>0.276275</td>\n",
       "      <td>0.853333</td>\n",
       "      <td>0.195699</td>\n",
       "      <td>0.92</td>\n",
       "      <td>49</td>\n",
       "    </tr>\n",
       "    <tr>\n",
       "      <th>50</th>\n",
       "      <td>0.275248</td>\n",
       "      <td>0.853333</td>\n",
       "      <td>0.197435</td>\n",
       "      <td>0.92</td>\n",
       "      <td>50</td>\n",
       "    </tr>\n",
       "    <tr>\n",
       "      <th>51</th>\n",
       "      <td>0.270726</td>\n",
       "      <td>0.853333</td>\n",
       "      <td>0.197208</td>\n",
       "      <td>0.92</td>\n",
       "      <td>51</td>\n",
       "    </tr>\n",
       "    <tr>\n",
       "      <th>52</th>\n",
       "      <td>0.268477</td>\n",
       "      <td>0.853333</td>\n",
       "      <td>0.196747</td>\n",
       "      <td>0.92</td>\n",
       "      <td>52</td>\n",
       "    </tr>\n",
       "  </tbody>\n",
       "</table>\n",
       "</div>"
      ],
      "text/plain": [
       "        loss  accuracy  val_loss  val_accuracy  Epochs\n",
       "46  0.280810  0.853333  0.198831          0.92      46\n",
       "47  0.279966  0.853333  0.197433          0.92      47\n",
       "48  0.278551  0.853333  0.197053          0.92      48\n",
       "49  0.276275  0.853333  0.195699          0.92      49\n",
       "50  0.275248  0.853333  0.197435          0.92      50\n",
       "51  0.270726  0.853333  0.197208          0.92      51\n",
       "52  0.268477  0.853333  0.196747          0.92      52"
      ]
     },
     "execution_count": 110,
     "metadata": {},
     "output_type": "execute_result"
    }
   ],
   "source": [
    "r3 = pd.DataFrame(h3.history)\n",
    "r3['Epochs'] = h3.epoch\n",
    "r3.tail(7)"
   ]
  },
  {
   "cell_type": "code",
   "execution_count": 114,
   "id": "66083980",
   "metadata": {},
   "outputs": [
    {
     "data": {
      "image/png": "[encoded data removed]",
      "text/plain": [
       "<Figure size 432x288 with 1 Axes>"
      ]
     },
     "metadata": {
      "needs_background": "light"
     },
     "output_type": "display_data"
    }
   ],
   "source": [
    "plt.plot(r1['Epochs'],r1['loss'],label='Training loss')\n",
    "plt.plot(r1['Epochs'],r1['val_loss'],label='Testing loss')\n",
    "plt.legend()\n",
    "plt.show()"
   ]
  },
  {
   "cell_type": "code",
   "execution_count": null,
   "id": "4e1c6202",
   "metadata": {},
   "outputs": [],
   "source": []
  }
 ],
 "metadata": {
  "kernelspec": {
   "display_name": "Python 3 (ipykernel)",
   "language": "python",
   "name": "python3"
  },
  "language_info": {
   "codemirror_mode": {
    "name": "ipython",
    "version": 3
   },
   "file_extension": ".py",
   "mimetype": "text/x-python",
   "name": "python",
   "nbconvert_exporter": "python",
   "pygments_lexer": "ipython3",
   "version": "3.9.7"
  }
 },
 "nbformat": 4,
 "nbformat_minor": 5
}
